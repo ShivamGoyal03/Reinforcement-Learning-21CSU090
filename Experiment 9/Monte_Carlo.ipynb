{
 "cells": [
  {
   "cell_type": "markdown",
   "metadata": {},
   "source": [
    "---\n",
    "# First Visit Monte Carlo\n",
    "---"
   ]
  },
  {
   "cell_type": "code",
   "execution_count": 39,
   "metadata": {},
   "outputs": [
    {
     "name": "stdout",
     "output_type": "stream",
     "text": [
      "{'A': 1.0, 'B': -2.5}\n"
     ]
    }
   ],
   "source": [
    "import numpy as np\n",
    "\n",
    "# Define the episode\n",
    "episodes = [\n",
    "    [('A', 3), ('A', 2), ('B', -4), ('A', 4), ('B', -3)],\n",
    "    [('B', -2), ('A', 3), ('B', -3)]\n",
    "    ]\n",
    "\n",
    "# Define the states\n",
    "states = ['A', 'B']\n",
    "\n",
    "# Initialize the value function\n",
    "V = {s: 0 for s in states}\n",
    "\n",
    "# Perform First-Visit Monte Carlo Policy Evaluation\n",
    "returns = {s: [] for s in states}\n",
    "\n",
    "for episode in episodes:\n",
    "    # Calculate returns and update the value function\n",
    "    G = 0\n",
    "    for t, (state, reward) in reversed(list(enumerate(episode))):\n",
    "        G = G + reward\n",
    "        if state not in [x[0] for x in episode[:t]]:\n",
    "            returns[state].append(G)\n",
    "            V[state] = np.mean(returns[state])\n",
    "\n",
    "# Print the value function\n",
    "print(V)"
   ]
  },
  {
   "cell_type": "markdown",
   "metadata": {},
   "source": [
    "---\n",
    "# Every Visit Monte Carlo\n",
    "---"
   ]
  },
  {
   "cell_type": "code",
   "execution_count": 40,
   "metadata": {},
   "outputs": [
    {
     "name": "stdout",
     "output_type": "stream",
     "text": [
      "{'A': 0.5, 'B': -2.75}\n"
     ]
    }
   ],
   "source": [
    "import numpy as np\n",
    "\n",
    "# Define the episode\n",
    "episodes = [\n",
    "    [('A', 3), ('A', 2), ('B', -4), ('A', 4), ('B', -3)],\n",
    "    [('B', -2), ('A', 3), ('B', -3)]\n",
    "    ]\n",
    "\n",
    "# Define the states\n",
    "states = ['A', 'B']\n",
    "\n",
    "# Initialize the value function\n",
    "V = {s: 0 for s in states}\n",
    "\n",
    "# Perform Every-Visit Monte Carlo Policy Evaluation\n",
    "returns = {s: [] for s in states}\n",
    "\n",
    "for episode in episodes:\n",
    "    # Calculate returns and update the value function\n",
    "    G = 0\n",
    "    for t, (state, reward) in reversed(list(enumerate(episode))):\n",
    "        G = G + reward\n",
    "        # Removed the check for first visit\n",
    "        returns[state].append(G)\n",
    "        V[state] = np.mean(returns[state])\n",
    "\n",
    "# Print the value function\n",
    "print(V)"
   ]
  },
  {
   "cell_type": "code",
   "execution_count": null,
   "metadata": {},
   "outputs": [],
   "source": []
  }
 ],
 "metadata": {
  "kernelspec": {
   "display_name": "Python 3",
   "language": "python",
   "name": "python3"
  },
  "language_info": {
   "codemirror_mode": {
    "name": "ipython",
    "version": 3
   },
   "file_extension": ".py",
   "mimetype": "text/x-python",
   "name": "python",
   "nbconvert_exporter": "python",
   "pygments_lexer": "ipython3",
   "version": "3.9.6"
  }
 },
 "nbformat": 4,
 "nbformat_minor": 2
}
