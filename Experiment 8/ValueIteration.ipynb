{
 "cells": [
  {
   "cell_type": "code",
   "execution_count": 1,
   "metadata": {},
   "outputs": [
    {
     "name": "stdout",
     "output_type": "stream",
     "text": [
      "[51.28054866 66.66516404 46.66516404]\n"
     ]
    }
   ],
   "source": [
    "import numpy as np\n",
    "\n",
    "# Define the transition probabilities, rewards, and discount factor\n",
    "P = np.array([\n",
    "    [[0.5, 0.5, 0.0], [0.0, 1.0, 0.0], [0.0, 0.0, 1.0]],\n",
    "    [[1.0, 0.0, 0.0], [0.5, 0.0, 0.5], [0.0, 1.0, 0.0]],\n",
    "    [[0.5, 0.5, 0.0], [0.0, 0.0, 1.0], [0.0, 1.0, 0.0]]\n",
    "])\n",
    "R = np.array([\n",
    "    [10, 0, 0],\n",
    "    [0, 0, 20],\n",
    "    [0, 0, 0]\n",
    "])\n",
    "gamma = 0.7\n",
    "\n",
    "# Initialize the value function\n",
    "V = np.zeros(3)\n",
    "\n",
    "# Perform value iteration\n",
    "for _ in range(1000):\n",
    "    V_new = np.max(R + gamma * np.sum(P * V, axis=2), axis=1)\n",
    "    if np.allclose(V, V_new):\n",
    "        break\n",
    "    V = V_new\n",
    "\n",
    "# Print the optimal value function\n",
    "print(V)"
   ]
  },
  {
   "cell_type": "code",
   "execution_count": null,
   "metadata": {},
   "outputs": [],
   "source": []
  }
 ],
 "metadata": {
  "kernelspec": {
   "display_name": "Python 3",
   "language": "python",
   "name": "python3"
  },
  "language_info": {
   "codemirror_mode": {
    "name": "ipython",
    "version": 3
   },
   "file_extension": ".py",
   "mimetype": "text/x-python",
   "name": "python",
   "nbconvert_exporter": "python",
   "pygments_lexer": "ipython3",
   "version": "3.9.13"
  }
 },
 "nbformat": 4,
 "nbformat_minor": 2
}
