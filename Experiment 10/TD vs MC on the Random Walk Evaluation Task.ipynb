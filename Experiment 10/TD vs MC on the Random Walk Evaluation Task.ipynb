{
 "cells": [
  {
   "cell_type": "code",
   "execution_count": 1,
   "metadata": {},
   "outputs": [],
   "source": [
    "from random_walk_td_vs_mc import RandomWalkTDvsMC"
   ]
  },
  {
   "cell_type": "code",
   "execution_count": 2,
   "metadata": {},
   "outputs": [
    {
     "name": "stdout",
     "output_type": "stream",
     "text": [
      "Help on class RandomWalkTDvsMC in module random_walk_td_vs_mc:\n",
      "\n",
      "class RandomWalkTDvsMC(builtins.object)\n",
      " |  RandomWalkTDvsMC(n_states: int, n_algo_runs: int, M: int, seed: int = 0)\n",
      " |  \n",
      " |  This class runs many simulations of the Monte Carlo and Temporal Difference algorithms on the Random Walk evaluation\n",
      " |  task, for a variety of values of the parameters alpha and n_steps. The results are stored in the self.MC_runs and\n",
      " |  self.TD_runs attributes, which are dataframes. Since running all these simulations may take a long time, this class\n",
      " |  stores results in the /data folder. So if you run the simulations, close the notebook and re-run, you'll begin\n",
      " |  wherever you left off.\n",
      " |  \n",
      " |  The class attributes of mc_alphas, td_alphas and n_steps determine the set of hyperparameters over which we will\n",
      " |  run these algorithms (for TD, it's every combination of td_alphas and n_steps).\n",
      " |  \n",
      " |  Methods defined here:\n",
      " |  \n",
      " |  __init__(self, n_states: int, n_algo_runs: int, M: int, seed: int = 0)\n",
      " |      Parameters\n",
      " |      ----------\n",
      " |      n_states: number of states\n",
      " |      n_algo_runs: number of runs of each algorithm (Monte Carlo and Temporal Difference)\n",
      " |      M: number of episodes per run of each algorithm.\n",
      " |  \n",
      " |  generate_all_episodes(self)\n",
      " |      Generates all episode data for applying MC and TD. The object returned, 'episode_runs', is a list of list of\n",
      " |      lists, where:\n",
      " |      \n",
      " |          episode_runs[k][m]\n",
      " |      \n",
      " |      is the m-th episode from the k-th run of episodes. Each episode is a list of positions.\n",
      " |  \n",
      " |  get_error_summary(self, errors_filtered: pandas.core.frame.DataFrame)\n",
      " |      Given a dataframe filtered down to particular hyperparameters (alphas and n_steps) for either TD or MC, this\n",
      " |      will return a dataframe giving the average error after processing m episode, along with lower_percentile-th to\n",
      " |      upper_percentile-th percentile performance.\n",
      " |  \n",
      " |  get_errors(self, which)\n",
      " |  \n",
      " |  get_init_V(self)\n",
      " |      Creates the initial value function table with all zeros.\n",
      " |  \n",
      " |  plot_errors_td_vs_mc(self, alpha_mc, alpha_td, n_steps, width=300, height=300)\n",
      " |      As seen in the video, creates the TD vs MC plot for a given set of hyperparameters.\n",
      " |  \n",
      " |  run_mc(self, run_idx, alpha)\n",
      " |      Runs the Monte Carlo algorithm. Returns a wide table giving the value function following the processing of each\n",
      " |      episode from the run_idx-th run of episodes.\n",
      " |      \n",
      " |      Parameters\n",
      " |      ----------\n",
      " |      run_idx: index of the run of episodes to use.\n",
      " |      alpha: the stepsize used for the MC update rule.\n",
      " |  \n",
      " |  run_mc_all(self)\n",
      " |  \n",
      " |  run_mc_multi_run(self, alpha)\n",
      " |  \n",
      " |  run_td(self, run_idx, alpha, n_steps)\n",
      " |      Runs the Temporal Difference algorithm. Returns a wide table giving the value function following the processing\n",
      " |      of each episode from the run_idx-th run of episodes.\n",
      " |      \n",
      " |      Parameters\n",
      " |      ----------\n",
      " |      run_idx: index of the run of episodes to use.\n",
      " |      alpha: the stepsize used for the TD update rule.\n",
      " |      n_steps: number of steps to use for the TD update rule.\n",
      " |  \n",
      " |  run_td_all(self)\n",
      " |  \n",
      " |  run_td_multi_run(self, alpha, n_steps)\n",
      " |  \n",
      " |  sample_ep(self)\n",
      " |      Sample one episode\n",
      " |  \n",
      " |  ----------------------------------------------------------------------\n",
      " |  Data descriptors defined here:\n",
      " |  \n",
      " |  __dict__\n",
      " |      dictionary for instance variables (if defined)\n",
      " |  \n",
      " |  __weakref__\n",
      " |      list of weak references to the object (if defined)\n",
      " |  \n",
      " |  ----------------------------------------------------------------------\n",
      " |  Data and other attributes defined here:\n",
      " |  \n",
      " |  initial_v = 0.5\n",
      " |  \n",
      " |  mc_alphas = [0.001, 0.01, 0.03, 0.05, 0.08, 0.1]\n",
      " |  \n",
      " |  n_steps = [1, 2, 4, 16, 64]\n",
      " |  \n",
      " |  td_alphas = [0.001, 0.01, 0.03, 0.05, 0.08, 0.1, 0.16, 0.2, 0.6, 1.0]\n",
      "\n"
     ]
    }
   ],
   "source": [
    "help(RandomWalkTDvsMC)"
   ]
  },
  {
   "cell_type": "code",
   "execution_count": 3,
   "metadata": {},
   "outputs": [],
   "source": [
    "td_vs_mc = RandomWalkTDvsMC(n_states = 7, n_algo_runs = 20, M=60, seed=0)"
   ]
  },
  {
   "cell_type": "markdown",
   "metadata": {},
   "source": [
    "### Run MC"
   ]
  },
  {
   "cell_type": "code",
   "execution_count": 4,
   "metadata": {},
   "outputs": [
    {
     "name": "stdout",
     "output_type": "stream",
     "text": [
      "Loading all runs for MC\n"
     ]
    }
   ],
   "source": [
    "td_vs_mc.run_mc_all()"
   ]
  },
  {
   "cell_type": "markdown",
   "metadata": {},
   "source": [
    "### Run TD"
   ]
  },
  {
   "cell_type": "code",
   "execution_count": 5,
   "metadata": {},
   "outputs": [
    {
     "name": "stdout",
     "output_type": "stream",
     "text": [
      "Loading all runs for TD\n"
     ]
    }
   ],
   "source": [
    "td_vs_mc.run_td_all()"
   ]
  },
  {
   "cell_type": "code",
   "execution_count": 6,
   "metadata": {},
   "outputs": [
    {
     "data": {
      "text/html": [
       "\n",
       "<style>\n",
       "  #altair-viz-6f376a9f1be746cc94dba49551a52e69.vega-embed {\n",
       "    width: 100%;\n",
       "    display: flex;\n",
       "  }\n",
       "\n",
       "  #altair-viz-6f376a9f1be746cc94dba49551a52e69.vega-embed details,\n",
       "  #altair-viz-6f376a9f1be746cc94dba49551a52e69.vega-embed details summary {\n",
       "    position: relative;\n",
       "  }\n",
       "</style>\n",
       "<div id=\"altair-viz-6f376a9f1be746cc94dba49551a52e69\"></div>\n",
       "<script type=\"text/javascript\">\n",
       "  var VEGA_DEBUG = (typeof VEGA_DEBUG == \"undefined\") ? {} : VEGA_DEBUG;\n",
       "  (function(spec, embedOpt){\n",
       "    let outputDiv = document.currentScript.previousElementSibling;\n",
       "    if (outputDiv.id !== \"altair-viz-6f376a9f1be746cc94dba49551a52e69\") {\n",
       "      outputDiv = document.getElementById(\"altair-viz-6f376a9f1be746cc94dba49551a52e69\");\n",
       "    }\n",
       "    const paths = {\n",
       "      \"vega\": \"https://cdn.jsdelivr.net/npm/vega@5?noext\",\n",
       "      \"vega-lib\": \"https://cdn.jsdelivr.net/npm/vega-lib?noext\",\n",
       "      \"vega-lite\": \"https://cdn.jsdelivr.net/npm/vega-lite@5.15.1?noext\",\n",
       "      \"vega-embed\": \"https://cdn.jsdelivr.net/npm/vega-embed@6?noext\",\n",
       "    };\n",
       "\n",
       "    function maybeLoadScript(lib, version) {\n",
       "      var key = `${lib.replace(\"-\", \"\")}_version`;\n",
       "      return (VEGA_DEBUG[key] == version) ?\n",
       "        Promise.resolve(paths[lib]) :\n",
       "        new Promise(function(resolve, reject) {\n",
       "          var s = document.createElement('script');\n",
       "          document.getElementsByTagName(\"head\")[0].appendChild(s);\n",
       "          s.async = true;\n",
       "          s.onload = () => {\n",
       "            VEGA_DEBUG[key] = version;\n",
       "            return resolve(paths[lib]);\n",
       "          };\n",
       "          s.onerror = () => reject(`Error loading script: ${paths[lib]}`);\n",
       "          s.src = paths[lib];\n",
       "        });\n",
       "    }\n",
       "\n",
       "    function showError(err) {\n",
       "      outputDiv.innerHTML = `<div class=\"error\" style=\"color:red;\">${err}</div>`;\n",
       "      throw err;\n",
       "    }\n",
       "\n",
       "    function displayChart(vegaEmbed) {\n",
       "      vegaEmbed(outputDiv, spec, embedOpt)\n",
       "        .catch(err => showError(`Javascript Error: ${err.message}<br>This usually means there's a typo in your chart specification. See the javascript console for the full traceback.`));\n",
       "    }\n",
       "\n",
       "    if(typeof define === \"function\" && define.amd) {\n",
       "      requirejs.config({paths});\n",
       "      require([\"vega-embed\"], displayChart, err => showError(`Error loading script: ${err.message}`));\n",
       "    } else {\n",
       "      maybeLoadScript(\"vega\", \"5\")\n",
       "        .then(() => maybeLoadScript(\"vega-lite\", \"5.15.1\"))\n",
       "        .then(() => maybeLoadScript(\"vega-embed\", \"6\"))\n",
       "        .catch(showError)\n",
       "        .then(() => displayChart(vegaEmbed));\n",
       "    }\n",
       "  })({\"config\": {\"view\": {\"continuousWidth\": 300, \"continuousHeight\": 300}}, \"layer\": [{\"mark\": {\"type\": \"area\", \"opacity\": 0.5}, \"encoding\": {\"color\": {\"field\": \"which\", \"type\": \"nominal\"}, \"x\": {\"field\": \"m\", \"type\": \"quantitative\"}, \"y\": {\"field\": \"lower_1_std\", \"type\": \"quantitative\"}, \"y2\": {\"field\": \"upper_1_std\"}}}, {\"mark\": {\"type\": \"line\", \"strokeWidth\": 1}, \"encoding\": {\"color\": {\"field\": \"which\", \"type\": \"nominal\"}, \"x\": {\"field\": \"m\", \"type\": \"quantitative\"}, \"y\": {\"field\": \"abs_error_mean\", \"title\": \"Ave. Abs. Error\", \"type\": \"quantitative\"}}}], \"data\": {\"name\": \"data-7ba8686d980983d40dc95e4ce95a917c\"}, \"height\": 300, \"width\": 700, \"$schema\": \"https://vega.github.io/schema/vega-lite/v5.15.1.json\", \"datasets\": {\"data-7ba8686d980983d40dc95e4ce95a917c\": [{\"m\": 0, \"abs_error_mean\": 0.2, \"abs_error_std\": 0.0, \"lower_1_std\": 0.2, \"upper_1_std\": 0.2, \"which\": \"TD\"}, {\"m\": 1, \"abs_error_mean\": 0.184, \"abs_error_std\": 1.910269724657813e-17, \"lower_1_std\": 0.18399999999999997, \"upper_1_std\": 0.18400000000000002, \"which\": \"TD\"}, {\"m\": 2, \"abs_error_mean\": 0.16806881280000002, \"abs_error_std\": 0.00021180132943909855, \"lower_1_std\": 0.16785701147056092, \"upper_1_std\": 0.16828061412943912, \"which\": \"TD\"}, {\"m\": 3, \"abs_error_mean\": 0.15324195161432133, \"abs_error_std\": 0.001247698663801098, \"lower_1_std\": 0.15199425295052024, \"upper_1_std\": 0.15448965027812242, \"which\": \"TD\"}, {\"m\": 4, \"abs_error_mean\": 0.1390495261562435, \"abs_error_std\": 0.002250818133299402, \"lower_1_std\": 0.13679870802294408, \"upper_1_std\": 0.1413003442895429, \"which\": \"TD\"}, {\"m\": 5, \"abs_error_mean\": 0.1277952574826627, \"abs_error_std\": 0.005306778085966147, \"lower_1_std\": 0.12248847939669656, \"upper_1_std\": 0.13310203556862885, \"which\": \"TD\"}, {\"m\": 6, \"abs_error_mean\": 0.11489482405649051, \"abs_error_std\": 0.006322481532808169, \"lower_1_std\": 0.10857234252368235, \"upper_1_std\": 0.12121730558929868, \"which\": \"TD\"}, {\"m\": 7, \"abs_error_mean\": 0.10425684547359348, \"abs_error_std\": 0.007802415085399603, \"lower_1_std\": 0.09645443038819389, \"upper_1_std\": 0.11205926055899308, \"which\": \"TD\"}, {\"m\": 8, \"abs_error_mean\": 0.09438121377616042, \"abs_error_std\": 0.011503429316853804, \"lower_1_std\": 0.08287778445930662, \"upper_1_std\": 0.10588464309301422, \"which\": \"TD\"}, {\"m\": 9, \"abs_error_mean\": 0.08544261807464162, \"abs_error_std\": 0.015303450755621385, \"lower_1_std\": 0.07013916731902024, \"upper_1_std\": 0.100746068830263, \"which\": \"TD\"}, {\"m\": 10, \"abs_error_mean\": 0.07590359886917633, \"abs_error_std\": 0.017291357270554572, \"lower_1_std\": 0.05861224159862176, \"upper_1_std\": 0.0931949561397309, \"which\": \"TD\"}, {\"m\": 11, \"abs_error_mean\": 0.07267400574745334, \"abs_error_std\": 0.020739416174672003, \"lower_1_std\": 0.05193458957278133, \"upper_1_std\": 0.09341342192212534, \"which\": \"TD\"}, {\"m\": 12, \"abs_error_mean\": 0.0651586288594064, \"abs_error_std\": 0.020468977293946117, \"lower_1_std\": 0.04468965156546029, \"upper_1_std\": 0.08562760615335252, \"which\": \"TD\"}, {\"m\": 13, \"abs_error_mean\": 0.06158144726621441, \"abs_error_std\": 0.02489216909121692, \"lower_1_std\": 0.03668927817499749, \"upper_1_std\": 0.08647361635743134, \"which\": \"TD\"}, {\"m\": 14, \"abs_error_mean\": 0.059188915658546094, \"abs_error_std\": 0.027884712508593024, \"lower_1_std\": 0.031304203149953067, \"upper_1_std\": 0.08707362816713912, \"which\": \"TD\"}, {\"m\": 15, \"abs_error_mean\": 0.056371047987824476, \"abs_error_std\": 0.03230902054589318, \"lower_1_std\": 0.024062027441931297, \"upper_1_std\": 0.08868006853371765, \"which\": \"TD\"}, {\"m\": 16, \"abs_error_mean\": 0.05581362234214741, \"abs_error_std\": 0.03402423836829988, \"lower_1_std\": 0.021789383973847526, \"upper_1_std\": 0.08983786071044729, \"which\": \"TD\"}, {\"m\": 17, \"abs_error_mean\": 0.05019918173093779, \"abs_error_std\": 0.032224234084710125, \"lower_1_std\": 0.017974947646227667, \"upper_1_std\": 0.08242341581564791, \"which\": \"TD\"}, {\"m\": 18, \"abs_error_mean\": 0.04734823163846649, \"abs_error_std\": 0.031899112422965094, \"lower_1_std\": 0.015449119215501399, \"upper_1_std\": 0.07924734406143158, \"which\": \"TD\"}, {\"m\": 19, \"abs_error_mean\": 0.05538814692450311, \"abs_error_std\": 0.03392569554955346, \"lower_1_std\": 0.021462451374949655, \"upper_1_std\": 0.08931384247405658, \"which\": \"TD\"}, {\"m\": 20, \"abs_error_mean\": 0.054421542475341186, \"abs_error_std\": 0.030848094044333505, \"lower_1_std\": 0.02357344843100768, \"upper_1_std\": 0.08526963651967469, \"which\": \"TD\"}, {\"m\": 21, \"abs_error_mean\": 0.050602533868609204, \"abs_error_std\": 0.03010977202932802, \"lower_1_std\": 0.020492761839281184, \"upper_1_std\": 0.08071230589793722, \"which\": \"TD\"}, {\"m\": 22, \"abs_error_mean\": 0.04323120258221447, \"abs_error_std\": 0.0297569732865112, \"lower_1_std\": 0.013474229295703268, \"upper_1_std\": 0.07298817586872566, \"which\": \"TD\"}, {\"m\": 23, \"abs_error_mean\": 0.04407446933600094, \"abs_error_std\": 0.030521904003768408, \"lower_1_std\": 0.013552565332232532, \"upper_1_std\": 0.07459637333976935, \"which\": \"TD\"}, {\"m\": 24, \"abs_error_mean\": 0.048901636666828285, \"abs_error_std\": 0.029923698995640458, \"lower_1_std\": 0.018977937671187828, \"upper_1_std\": 0.07882533566246874, \"which\": \"TD\"}, {\"m\": 25, \"abs_error_mean\": 0.05432748589209656, \"abs_error_std\": 0.032933628026497214, \"lower_1_std\": 0.021393857865599344, \"upper_1_std\": 0.08726111391859377, \"which\": \"TD\"}, {\"m\": 26, \"abs_error_mean\": 0.05237238612854698, \"abs_error_std\": 0.0299315159838651, \"lower_1_std\": 0.02244087014468188, \"upper_1_std\": 0.08230390211241208, \"which\": \"TD\"}, {\"m\": 27, \"abs_error_mean\": 0.050496161328302536, \"abs_error_std\": 0.03191277407607551, \"lower_1_std\": 0.018583387252227024, \"upper_1_std\": 0.08240893540437805, \"which\": \"TD\"}, {\"m\": 28, \"abs_error_mean\": 0.0507684077491656, \"abs_error_std\": 0.028100364561788993, \"lower_1_std\": 0.022668043187376606, \"upper_1_std\": 0.0788687723109546, \"which\": \"TD\"}, {\"m\": 29, \"abs_error_mean\": 0.050261710124633464, \"abs_error_std\": 0.023215311166885032, \"lower_1_std\": 0.027046398957748432, \"upper_1_std\": 0.0734770212915185, \"which\": \"TD\"}, {\"m\": 30, \"abs_error_mean\": 0.053595923561461645, \"abs_error_std\": 0.024624109977420847, \"lower_1_std\": 0.028971813584040797, \"upper_1_std\": 0.07822003353888249, \"which\": \"TD\"}, {\"m\": 31, \"abs_error_mean\": 0.05373531631288233, \"abs_error_std\": 0.021876471588786413, \"lower_1_std\": 0.03185884472409592, \"upper_1_std\": 0.07561178790166874, \"which\": \"TD\"}, {\"m\": 32, \"abs_error_mean\": 0.05632841949232058, \"abs_error_std\": 0.023883322407453424, \"lower_1_std\": 0.032445097084867154, \"upper_1_std\": 0.08021174189977401, \"which\": \"TD\"}, {\"m\": 33, \"abs_error_mean\": 0.05926757581889937, \"abs_error_std\": 0.025313129179502812, \"lower_1_std\": 0.033954446639396556, \"upper_1_std\": 0.08458070499840217, \"which\": \"TD\"}, {\"m\": 34, \"abs_error_mean\": 0.05981055057527927, \"abs_error_std\": 0.02891505624904567, \"lower_1_std\": 0.0308954943262336, \"upper_1_std\": 0.08872560682432494, \"which\": \"TD\"}, {\"m\": 35, \"abs_error_mean\": 0.059762650409601284, \"abs_error_std\": 0.02981205445066016, \"lower_1_std\": 0.029950595958941124, \"upper_1_std\": 0.08957470486026145, \"which\": \"TD\"}, {\"m\": 36, \"abs_error_mean\": 0.06334220233233367, \"abs_error_std\": 0.02926349765163915, \"lower_1_std\": 0.03407870468069453, \"upper_1_std\": 0.09260569998397282, \"which\": \"TD\"}, {\"m\": 37, \"abs_error_mean\": 0.06253681386795933, \"abs_error_std\": 0.026669803996267782, \"lower_1_std\": 0.035867009871691544, \"upper_1_std\": 0.08920661786422711, \"which\": \"TD\"}, {\"m\": 38, \"abs_error_mean\": 0.06763568990990883, \"abs_error_std\": 0.027453539688126007, \"lower_1_std\": 0.04018215022178282, \"upper_1_std\": 0.09508922959803484, \"which\": \"TD\"}, {\"m\": 39, \"abs_error_mean\": 0.0660952112478817, \"abs_error_std\": 0.024760171929381278, \"lower_1_std\": 0.041335039318500424, \"upper_1_std\": 0.09085538317726298, \"which\": \"TD\"}, {\"m\": 40, \"abs_error_mean\": 0.06313096739527604, \"abs_error_std\": 0.022683448115263852, \"lower_1_std\": 0.040447519280012195, \"upper_1_std\": 0.0858144155105399, \"which\": \"TD\"}, {\"m\": 41, \"abs_error_mean\": 0.0588796543165863, \"abs_error_std\": 0.019920632440836385, \"lower_1_std\": 0.038959021875749913, \"upper_1_std\": 0.07880028675742269, \"which\": \"TD\"}, {\"m\": 42, \"abs_error_mean\": 0.0608472941126003, \"abs_error_std\": 0.027835972847334224, \"lower_1_std\": 0.033011321265266076, \"upper_1_std\": 0.08868326695993453, \"which\": \"TD\"}, {\"m\": 43, \"abs_error_mean\": 0.06133634352542653, \"abs_error_std\": 0.020687330234564285, \"lower_1_std\": 0.04064901329086225, \"upper_1_std\": 0.08202367375999081, \"which\": \"TD\"}, {\"m\": 44, \"abs_error_mean\": 0.05873199960775268, \"abs_error_std\": 0.015816901532849387, \"lower_1_std\": 0.04291509807490329, \"upper_1_std\": 0.07454890114060207, \"which\": \"TD\"}, {\"m\": 45, \"abs_error_mean\": 0.06134895521837504, \"abs_error_std\": 0.017638560176521878, \"lower_1_std\": 0.04371039504185316, \"upper_1_std\": 0.07898751539489691, \"which\": \"TD\"}, {\"m\": 46, \"abs_error_mean\": 0.06305194808518998, \"abs_error_std\": 0.02066068827619638, \"lower_1_std\": 0.042391259808993595, \"upper_1_std\": 0.08371263636138636, \"which\": \"TD\"}, {\"m\": 47, \"abs_error_mean\": 0.06066235666681519, \"abs_error_std\": 0.02612217935489195, \"lower_1_std\": 0.034540177311923236, \"upper_1_std\": 0.08678453602170713, \"which\": \"TD\"}, {\"m\": 48, \"abs_error_mean\": 0.05761905753026425, \"abs_error_std\": 0.02574451244819614, \"lower_1_std\": 0.031874545082068106, \"upper_1_std\": 0.0833635699784604, \"which\": \"TD\"}, {\"m\": 49, \"abs_error_mean\": 0.06451499307265225, \"abs_error_std\": 0.028514948332530522, \"lower_1_std\": 0.03600004474012173, \"upper_1_std\": 0.09302994140518278, \"which\": \"TD\"}, {\"m\": 50, \"abs_error_mean\": 0.06319517763897584, \"abs_error_std\": 0.026806813441196852, \"lower_1_std\": 0.03638836419777898, \"upper_1_std\": 0.09000199108017269, \"which\": \"TD\"}, {\"m\": 51, \"abs_error_mean\": 0.0655754972767913, \"abs_error_std\": 0.030549634091675073, \"lower_1_std\": 0.03502586318511622, \"upper_1_std\": 0.09612513136846637, \"which\": \"TD\"}, {\"m\": 52, \"abs_error_mean\": 0.06455769094341934, \"abs_error_std\": 0.033995963451563874, \"lower_1_std\": 0.03056172749185547, \"upper_1_std\": 0.09855365439498322, \"which\": \"TD\"}, {\"m\": 53, \"abs_error_mean\": 0.06607570641553034, \"abs_error_std\": 0.030371740734080874, \"lower_1_std\": 0.03570396568144947, \"upper_1_std\": 0.09644744714961122, \"which\": \"TD\"}, {\"m\": 54, \"abs_error_mean\": 0.06426727636541796, \"abs_error_std\": 0.02967369000673854, \"lower_1_std\": 0.034593586358679415, \"upper_1_std\": 0.0939409663721565, \"which\": \"TD\"}, {\"m\": 55, \"abs_error_mean\": 0.06637333844334961, \"abs_error_std\": 0.0245444738637596, \"lower_1_std\": 0.04182886457959001, \"upper_1_std\": 0.09091781230710921, \"which\": \"TD\"}, {\"m\": 56, \"abs_error_mean\": 0.06636575448250473, \"abs_error_std\": 0.023535965836646404, \"lower_1_std\": 0.042829788645858326, \"upper_1_std\": 0.08990172031915114, \"which\": \"TD\"}, {\"m\": 57, \"abs_error_mean\": 0.06041360418799348, \"abs_error_std\": 0.024955082585274603, \"lower_1_std\": 0.035458521602718875, \"upper_1_std\": 0.08536868677326809, \"which\": \"TD\"}, {\"m\": 58, \"abs_error_mean\": 0.056545192470814264, \"abs_error_std\": 0.023414356727115455, \"lower_1_std\": 0.03313083574369881, \"upper_1_std\": 0.07995954919792972, \"which\": \"TD\"}, {\"m\": 59, \"abs_error_mean\": 0.058335037042022794, \"abs_error_std\": 0.019862902127113415, \"lower_1_std\": 0.038472134914909376, \"upper_1_std\": 0.07819793916913621, \"which\": \"TD\"}, {\"m\": 60, \"abs_error_mean\": 0.06149492591540523, \"abs_error_std\": 0.022742849973467986, \"lower_1_std\": 0.03875207594193725, \"upper_1_std\": 0.08423777588887321, \"which\": \"TD\"}, {\"m\": 0, \"abs_error_mean\": 0.2, \"abs_error_std\": 0.0, \"lower_1_std\": 0.2, \"upper_1_std\": 0.2, \"which\": \"MC\"}, {\"m\": 1, \"abs_error_mean\": 0.2028817923047766, \"abs_error_std\": 0.005183915978049009, \"lower_1_std\": 0.19769787632672758, \"upper_1_std\": 0.2080657082828256, \"which\": \"MC\"}, {\"m\": 2, \"abs_error_mean\": 0.19971280903733035, \"abs_error_std\": 0.006434415854992997, \"lower_1_std\": 0.19327839318233736, \"upper_1_std\": 0.20614722489232334, \"which\": \"MC\"}, {\"m\": 3, \"abs_error_mean\": 0.19855424198948304, \"abs_error_std\": 0.005221282510202712, \"lower_1_std\": 0.19333295947928034, \"upper_1_std\": 0.20377552449968575, \"which\": \"MC\"}, {\"m\": 4, \"abs_error_mean\": 0.19767418869226455, \"abs_error_std\": 0.006803979866610721, \"lower_1_std\": 0.19087020882565384, \"upper_1_std\": 0.20447816855887527, \"which\": \"MC\"}, {\"m\": 5, \"abs_error_mean\": 0.1954618964596603, \"abs_error_std\": 0.008880195085610575, \"lower_1_std\": 0.18658170137404972, \"upper_1_std\": 0.2043420915452709, \"which\": \"MC\"}, {\"m\": 6, \"abs_error_mean\": 0.1934632986709788, \"abs_error_std\": 0.00877648960612676, \"lower_1_std\": 0.18468680906485205, \"upper_1_std\": 0.20223978827710556, \"which\": \"MC\"}, {\"m\": 7, \"abs_error_mean\": 0.1894572413354231, \"abs_error_std\": 0.009765587031906744, \"lower_1_std\": 0.17969165430351636, \"upper_1_std\": 0.19922282836732985, \"which\": \"MC\"}, {\"m\": 8, \"abs_error_mean\": 0.19030094273865375, \"abs_error_std\": 0.0115738424647588, \"lower_1_std\": 0.17872710027389496, \"upper_1_std\": 0.20187478520341254, \"which\": \"MC\"}, {\"m\": 9, \"abs_error_mean\": 0.1865545816733827, \"abs_error_std\": 0.011213861858041093, \"lower_1_std\": 0.1753407198153416, \"upper_1_std\": 0.1977684435314238, \"which\": \"MC\"}, {\"m\": 10, \"abs_error_mean\": 0.18509307004625314, \"abs_error_std\": 0.012904283363038595, \"lower_1_std\": 0.17218878668321455, \"upper_1_std\": 0.19799735340929173, \"which\": \"MC\"}, {\"m\": 11, \"abs_error_mean\": 0.18393811088746218, \"abs_error_std\": 0.012772754287339491, \"lower_1_std\": 0.1711653566001227, \"upper_1_std\": 0.19671086517480166, \"which\": \"MC\"}, {\"m\": 12, \"abs_error_mean\": 0.18312921538047508, \"abs_error_std\": 0.013036477055792698, \"lower_1_std\": 0.17009273832468239, \"upper_1_std\": 0.19616569243626777, \"which\": \"MC\"}, {\"m\": 13, \"abs_error_mean\": 0.18141462254177515, \"abs_error_std\": 0.013778994736881454, \"lower_1_std\": 0.1676356278048937, \"upper_1_std\": 0.1951936172786566, \"which\": \"MC\"}, {\"m\": 14, \"abs_error_mean\": 0.179620757181534, \"abs_error_std\": 0.013417538036213492, \"lower_1_std\": 0.16620321914532052, \"upper_1_std\": 0.19303829521774749, \"which\": \"MC\"}, {\"m\": 15, \"abs_error_mean\": 0.17894678619217771, \"abs_error_std\": 0.013558425398188313, \"lower_1_std\": 0.16538836079398941, \"upper_1_std\": 0.19250521159036602, \"which\": \"MC\"}, {\"m\": 16, \"abs_error_mean\": 0.17815603213977224, \"abs_error_std\": 0.013503511744481464, \"lower_1_std\": 0.16465252039529077, \"upper_1_std\": 0.1916595438842537, \"which\": \"MC\"}, {\"m\": 17, \"abs_error_mean\": 0.17593796605882603, \"abs_error_std\": 0.013839913138425051, \"lower_1_std\": 0.16209805292040097, \"upper_1_std\": 0.1897778791972511, \"which\": \"MC\"}, {\"m\": 18, \"abs_error_mean\": 0.1742092664935567, \"abs_error_std\": 0.013509800349390493, \"lower_1_std\": 0.1606994661441662, \"upper_1_std\": 0.1877190668429472, \"which\": \"MC\"}, {\"m\": 19, \"abs_error_mean\": 0.1724455142023687, \"abs_error_std\": 0.014018234794161194, \"lower_1_std\": 0.1584272794082075, \"upper_1_std\": 0.1864637489965299, \"which\": \"MC\"}, {\"m\": 20, \"abs_error_mean\": 0.17001804357081174, \"abs_error_std\": 0.013327078170907721, \"lower_1_std\": 0.15669096539990401, \"upper_1_std\": 0.18334512174171946, \"which\": \"MC\"}, {\"m\": 21, \"abs_error_mean\": 0.16821630021132933, \"abs_error_std\": 0.014630701564680909, \"lower_1_std\": 0.15358559864664842, \"upper_1_std\": 0.18284700177601024, \"which\": \"MC\"}, {\"m\": 22, \"abs_error_mean\": 0.16482013699644432, \"abs_error_std\": 0.014548647178862242, \"lower_1_std\": 0.1502714898175821, \"upper_1_std\": 0.17936878417530655, \"which\": \"MC\"}, {\"m\": 23, \"abs_error_mean\": 0.16429214016279908, \"abs_error_std\": 0.01469804370113174, \"lower_1_std\": 0.14959409646166735, \"upper_1_std\": 0.1789901838639308, \"which\": \"MC\"}, {\"m\": 24, \"abs_error_mean\": 0.1612500236896876, \"abs_error_std\": 0.01609006477573953, \"lower_1_std\": 0.14515995891394806, \"upper_1_std\": 0.17734008846542715, \"which\": \"MC\"}, {\"m\": 25, \"abs_error_mean\": 0.15973661078786153, \"abs_error_std\": 0.016580506823936338, \"lower_1_std\": 0.1431561039639252, \"upper_1_std\": 0.17631711761179786, \"which\": \"MC\"}, {\"m\": 26, \"abs_error_mean\": 0.15939382005158886, \"abs_error_std\": 0.018022407964456276, \"lower_1_std\": 0.14137141208713258, \"upper_1_std\": 0.17741622801604515, \"which\": \"MC\"}, {\"m\": 27, \"abs_error_mean\": 0.15704507199574108, \"abs_error_std\": 0.018872935537754106, \"lower_1_std\": 0.13817213645798698, \"upper_1_std\": 0.17591800753349518, \"which\": \"MC\"}, {\"m\": 28, \"abs_error_mean\": 0.15500442382028504, \"abs_error_std\": 0.01741241855382249, \"lower_1_std\": 0.13759200526646254, \"upper_1_std\": 0.17241684237410754, \"which\": \"MC\"}, {\"m\": 29, \"abs_error_mean\": 0.153657322959957, \"abs_error_std\": 0.01604154635632658, \"lower_1_std\": 0.13761577660363042, \"upper_1_std\": 0.16969886931628356, \"which\": \"MC\"}, {\"m\": 30, \"abs_error_mean\": 0.15217656191844503, \"abs_error_std\": 0.01720049732743749, \"lower_1_std\": 0.13497606459100753, \"upper_1_std\": 0.16937705924588253, \"which\": \"MC\"}, {\"m\": 31, \"abs_error_mean\": 0.15005628678961233, \"abs_error_std\": 0.01737367219089706, \"lower_1_std\": 0.13268261459871528, \"upper_1_std\": 0.16742995898050939, \"which\": \"MC\"}, {\"m\": 32, \"abs_error_mean\": 0.14773893280522926, \"abs_error_std\": 0.015835208103360855, \"lower_1_std\": 0.1319037247018684, \"upper_1_std\": 0.16357414090859013, \"which\": \"MC\"}, {\"m\": 33, \"abs_error_mean\": 0.14739547732809638, \"abs_error_std\": 0.016944100769656967, \"lower_1_std\": 0.1304513765584394, \"upper_1_std\": 0.16433957809775335, \"which\": \"MC\"}, {\"m\": 34, \"abs_error_mean\": 0.14620180126631088, \"abs_error_std\": 0.016791161636674386, \"lower_1_std\": 0.1294106396296365, \"upper_1_std\": 0.16299296290298526, \"which\": \"MC\"}, {\"m\": 35, \"abs_error_mean\": 0.14651525490508904, \"abs_error_std\": 0.017803459726101433, \"lower_1_std\": 0.12871179517898762, \"upper_1_std\": 0.16431871463119047, \"which\": \"MC\"}, {\"m\": 36, \"abs_error_mean\": 0.14665533939821435, \"abs_error_std\": 0.01834424401026014, \"lower_1_std\": 0.1283110953879542, \"upper_1_std\": 0.16499958340847448, \"which\": \"MC\"}, {\"m\": 37, \"abs_error_mean\": 0.1447324882250851, \"abs_error_std\": 0.018119487899590257, \"lower_1_std\": 0.12661300032549486, \"upper_1_std\": 0.16285197612467536, \"which\": \"MC\"}, {\"m\": 38, \"abs_error_mean\": 0.14546392864307625, \"abs_error_std\": 0.021704918096516052, \"lower_1_std\": 0.1237590105465602, \"upper_1_std\": 0.16716884673959231, \"which\": \"MC\"}, {\"m\": 39, \"abs_error_mean\": 0.14364836466622471, \"abs_error_std\": 0.021359551206854586, \"lower_1_std\": 0.12228881345937012, \"upper_1_std\": 0.1650079158730793, \"which\": \"MC\"}, {\"m\": 40, \"abs_error_mean\": 0.13968327368267042, \"abs_error_std\": 0.020857473212018772, \"lower_1_std\": 0.11882580047065164, \"upper_1_std\": 0.1605407468946892, \"which\": \"MC\"}, {\"m\": 41, \"abs_error_mean\": 0.14075688773676043, \"abs_error_std\": 0.02128879929348319, \"lower_1_std\": 0.11946808844327723, \"upper_1_std\": 0.1620456870302436, \"which\": \"MC\"}, {\"m\": 42, \"abs_error_mean\": 0.13919710039513086, \"abs_error_std\": 0.024328913439374725, \"lower_1_std\": 0.11486818695575614, \"upper_1_std\": 0.1635260138345056, \"which\": \"MC\"}, {\"m\": 43, \"abs_error_mean\": 0.13626695188416565, \"abs_error_std\": 0.022794300478960958, \"lower_1_std\": 0.1134726514052047, \"upper_1_std\": 0.15906125236312663, \"which\": \"MC\"}, {\"m\": 44, \"abs_error_mean\": 0.1313617348215887, \"abs_error_std\": 0.020232555338372794, \"lower_1_std\": 0.1111291794832159, \"upper_1_std\": 0.15159429015996148, \"which\": \"MC\"}, {\"m\": 45, \"abs_error_mean\": 0.12836990272724622, \"abs_error_std\": 0.023338159694328713, \"lower_1_std\": 0.1050317430329175, \"upper_1_std\": 0.15170806242157492, \"which\": \"MC\"}, {\"m\": 46, \"abs_error_mean\": 0.12743133357718509, \"abs_error_std\": 0.022246327445037257, \"lower_1_std\": 0.10518500613214783, \"upper_1_std\": 0.14967766102222235, \"which\": \"MC\"}, {\"m\": 47, \"abs_error_mean\": 0.12738035697805133, \"abs_error_std\": 0.021600882783544977, \"lower_1_std\": 0.10577947419450635, \"upper_1_std\": 0.1489812397615963, \"which\": \"MC\"}, {\"m\": 48, \"abs_error_mean\": 0.12566125623132787, \"abs_error_std\": 0.021669837242268713, \"lower_1_std\": 0.10399141898905916, \"upper_1_std\": 0.14733109347359657, \"which\": \"MC\"}, {\"m\": 49, \"abs_error_mean\": 0.12580435171805007, \"abs_error_std\": 0.022585896579519777, \"lower_1_std\": 0.1032184551385303, \"upper_1_std\": 0.14839024829756986, \"which\": \"MC\"}, {\"m\": 50, \"abs_error_mean\": 0.12482118757103008, \"abs_error_std\": 0.023555805351739883, \"lower_1_std\": 0.1012653822192902, \"upper_1_std\": 0.14837699292276996, \"which\": \"MC\"}, {\"m\": 51, \"abs_error_mean\": 0.12314177547177407, \"abs_error_std\": 0.026087427308833643, \"lower_1_std\": 0.09705434816294042, \"upper_1_std\": 0.14922920278060772, \"which\": \"MC\"}, {\"m\": 52, \"abs_error_mean\": 0.12461039119014965, \"abs_error_std\": 0.024998337563091604, \"lower_1_std\": 0.09961205362705805, \"upper_1_std\": 0.14960872875324124, \"which\": \"MC\"}, {\"m\": 53, \"abs_error_mean\": 0.12487983528650193, \"abs_error_std\": 0.02315879061586534, \"lower_1_std\": 0.10172104467063658, \"upper_1_std\": 0.14803862590236727, \"which\": \"MC\"}, {\"m\": 54, \"abs_error_mean\": 0.1253000844218832, \"abs_error_std\": 0.024714777787046633, \"lower_1_std\": 0.10058530663483657, \"upper_1_std\": 0.15001486220892984, \"which\": \"MC\"}, {\"m\": 55, \"abs_error_mean\": 0.12214632007588666, \"abs_error_std\": 0.02374438393036024, \"lower_1_std\": 0.09840193614552642, \"upper_1_std\": 0.1458907040062469, \"which\": \"MC\"}, {\"m\": 56, \"abs_error_mean\": 0.1221755644916482, \"abs_error_std\": 0.025190423679521987, \"lower_1_std\": 0.09698514081212621, \"upper_1_std\": 0.1473659881711702, \"which\": \"MC\"}, {\"m\": 57, \"abs_error_mean\": 0.12023869137724967, \"abs_error_std\": 0.022696023263071574, \"lower_1_std\": 0.0975426681141781, \"upper_1_std\": 0.14293471464032126, \"which\": \"MC\"}, {\"m\": 58, \"abs_error_mean\": 0.11890472791748401, \"abs_error_std\": 0.0226655632287968, \"lower_1_std\": 0.0962391646886872, \"upper_1_std\": 0.1415702911462808, \"which\": \"MC\"}, {\"m\": 59, \"abs_error_mean\": 0.1171944470095045, \"abs_error_std\": 0.023039880642549207, \"lower_1_std\": 0.0941545663669553, \"upper_1_std\": 0.1402343276520537, \"which\": \"MC\"}, {\"m\": 60, \"abs_error_mean\": 0.11687041868851715, \"abs_error_std\": 0.024015679533518176, \"lower_1_std\": 0.09285473915499898, \"upper_1_std\": 0.14088609822203532, \"which\": \"MC\"}]}}, {\"mode\": \"vega-lite\"});\n",
       "</script>"
      ],
      "text/plain": [
       "alt.LayerChart(...)"
      ]
     },
     "execution_count": 6,
     "metadata": {},
     "output_type": "execute_result"
    }
   ],
   "source": [
    "td_vs_mc.plot_errors_td_vs_mc(alpha_mc=0.01, alpha_td=0.16, n_steps=1, height=300, width=700)"
   ]
  }
 ],
 "metadata": {
  "kernelspec": {
   "display_name": "Python 3",
   "language": "python",
   "name": "python3"
  },
  "language_info": {
   "codemirror_mode": {
    "name": "ipython",
    "version": 3
   },
   "file_extension": ".py",
   "mimetype": "text/x-python",
   "name": "python",
   "nbconvert_exporter": "python",
   "pygments_lexer": "ipython3",
   "version": "3.9.13"
  }
 },
 "nbformat": 4,
 "nbformat_minor": 2
}
